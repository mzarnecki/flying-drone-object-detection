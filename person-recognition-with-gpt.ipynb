{
 "cells": [
  {
   "cell_type": "markdown",
   "id": "c83105ab",
   "metadata": {},
   "source": [
    "# Use opencv and Haar cascade algorithm to detect faces\n",
    "\n",
    "This noteboook presents how to recognize face on image using GPT model"
   ]
  },
  {
   "cell_type": "code",
   "id": "66821407",
   "metadata": {
    "ExecuteTime": {
     "end_time": "2025-05-31T18:45:07.233625Z",
     "start_time": "2025-05-31T18:45:02.468955Z"
    }
   },
   "source": [
    "import base64\n",
    "from openai import OpenAI\n",
    "from dotenv import load_dotenv, find_dotenv\n",
    "\n",
    "load_dotenv(find_dotenv())\n",
    "\n",
    "def generate_multimodal(image_path: str, prompt: str):\n",
    "\n",
    "    client = OpenAI()\n",
    "    with open(image_path, \"rb\") as image:\n",
    "        base64_image = base64.b64encode(image.read()).decode(\"utf-8\")\n",
    "\n",
    "    response = client.chat.completions.create(\n",
    "        model=\"gpt-4.1-mini\",\n",
    "        messages=[{\n",
    "            \"role\": \"user\",\n",
    "            \"content\": [\n",
    "                {\"type\": \"text\", \"text\": prompt},\n",
    "                {\n",
    "                    \"type\": \"image_url\",\n",
    "                    \"image_url\": {\n",
    "                        \"url\": f\"data:image/jpeg;base64,{base64_image}\",\n",
    "                        \"detail\": \"low\"\n",
    "                    },\n",
    "                },\n",
    "            ],\n",
    "        }],\n",
    "    )\n",
    "\n",
    "    return response.choices[0].message.content\n",
    "\n",
    "prompt = \"Is person on the image?\"\n",
    "\n",
    "response_person = generate_multimodal('img/image.jpg', prompt)\n",
    "print(response_person)\n",
    "\n",
    "response_cow = generate_multimodal('img/image2.jpg', prompt)\n",
    "print(response_cow)\n",
    "\n",
    "\n",
    "assert response_person == 1, \"Response of recognition image with person failed.\"\n",
    "assert response_cow == 0, \"Response of recognition image without person failed.\""
   ],
   "outputs": [
    {
     "name": "stdout",
     "output_type": "stream",
     "text": [
      "Yes, there is a person in the image.\n",
      "No, there is no person in the image. The image shows a close-up of a brown cow with yellow ear tags.\n"
     ]
    },
    {
     "ename": "AssertionError",
     "evalue": "Response of recognition image with person failed.",
     "output_type": "error",
     "traceback": [
      "\u001B[0;31m---------------------------------------------------------------------------\u001B[0m",
      "\u001B[0;31mAssertionError\u001B[0m                            Traceback (most recent call last)",
      "Cell \u001B[0;32mIn[11], line 41\u001B[0m\n\u001B[1;32m     37\u001B[0m response_cow \u001B[38;5;241m=\u001B[39m generate_multimodal(\u001B[38;5;124m'\u001B[39m\u001B[38;5;124mimg/image2.jpg\u001B[39m\u001B[38;5;124m'\u001B[39m, prompt)\n\u001B[1;32m     38\u001B[0m \u001B[38;5;28mprint\u001B[39m(response_cow)\n\u001B[0;32m---> 41\u001B[0m \u001B[38;5;28;01massert\u001B[39;00m response_person \u001B[38;5;241m==\u001B[39m \u001B[38;5;241m1\u001B[39m, \u001B[38;5;124m\"\u001B[39m\u001B[38;5;124mResponse of recognition image with person failed.\u001B[39m\u001B[38;5;124m\"\u001B[39m\n\u001B[1;32m     42\u001B[0m \u001B[38;5;28;01massert\u001B[39;00m response_cow \u001B[38;5;241m==\u001B[39m \u001B[38;5;241m0\u001B[39m, \u001B[38;5;124m\"\u001B[39m\u001B[38;5;124mResponse of recognition image without person failed.\u001B[39m\u001B[38;5;124m\"\u001B[39m\n",
      "\u001B[0;31mAssertionError\u001B[0m: Response of recognition image with person failed."
     ]
    }
   ],
   "execution_count": 11
  },
  {
   "metadata": {
    "ExecuteTime": {
     "end_time": "2025-01-24T16:06:40.535383Z",
     "start_time": "2025-01-24T16:06:40.533094Z"
    }
   },
   "cell_type": "code",
   "source": "",
   "id": "1639c76df34c3955",
   "outputs": [],
   "execution_count": null
  }
 ],
 "metadata": {
  "kernelspec": {
   "display_name": "Python 3 (ipykernel)",
   "language": "python",
   "name": "python3"
  },
  "language_info": {
   "codemirror_mode": {
    "name": "ipython",
    "version": 3
   },
   "file_extension": ".py",
   "mimetype": "text/x-python",
   "name": "python",
   "nbconvert_exporter": "python",
   "pygments_lexer": "ipython3",
   "version": "3.9.12"
  }
 },
 "nbformat": 4,
 "nbformat_minor": 5
}
